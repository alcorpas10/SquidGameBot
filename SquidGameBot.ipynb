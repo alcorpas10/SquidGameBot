{
 "cells": [
  {
   "cell_type": "markdown",
   "metadata": {},
   "source": [
    "# Squid Game Bot"
   ]
  },
  {
   "cell_type": "markdown",
   "metadata": {},
   "source": [
    "## Introduction"
   ]
  },
  {
   "cell_type": "markdown",
   "metadata": {},
   "source": [
    "This bot simulates in Twitter some parts from the Squid Game series, without making spoilers, just tweeting and replying to mentions. It has been created to try the Twitter API in a funny way.\n",
    "The tweepy library has been used to make it easier to code.\n",
    "The bot has two operating phases:\n",
    "\n",
    "1. Recruiting: In this phase the bot registers in the game the Twitter users who tweet mentioning him and saying they want to participate. It also informs about how to get registered if the requirements haven't been satisfied. I have used tweepy.Stream to search for new tweets and reply them in real time.\n",
    "\n",
    "2. Game and eliminations: In this phase the bot informs that the game has started and tweets once an hour a new player that has been eliminated. Finally, when there is just one player left the game finishes and the winner is published. Here it is only used the update_status tweepy method."
   ]
  },
  {
   "cell_type": "markdown",
   "metadata": {},
   "source": [
    "## Code"
   ]
  },
  {
   "cell_type": "markdown",
   "metadata": {},
   "source": [
    "### Setup"
   ]
  },
  {
   "cell_type": "code",
   "execution_count": 1,
   "metadata": {},
   "outputs": [],
   "source": [
    "# Imports\n",
    "import tweepy\n",
    "import json\n",
    "import random"
   ]
  },
  {
   "cell_type": "code",
   "execution_count": 2,
   "metadata": {},
   "outputs": [],
   "source": [
    "# Keys of the twitter application and user\n",
    "consumer_key = \"XXXXXXXXXXXXXXXXXXXXXXXXX\"\n",
    "consumer_secret = \"XXXXXXXXXXXXXXXXXXXXXXXXXXXXXXXXXXXXXXXXXXXXXXXXXX\"\n",
    "\n",
    "access_token = \"XXXXXXXXXXXXXXXXXXXXXXXXXXXXXXXXXXXXXXXXXXXXXXXXXX\"\n",
    "access_token_secret = \"XXXXXXXXXXXXXXXXXXXXXXXXXXXXXXXXXXXXXXXXXXXXX\"\n",
    "\n",
    "# The access to the API is configured\n",
    "auth = tweepy.OAuthHandler(consumer_key, consumer_secret)\n",
    "auth.set_access_token(access_token, access_token_secret)\n",
    " \n",
    "# The connection with the API is established\n",
    "api = tweepy.API(auth)"
   ]
  },
  {
   "cell_type": "markdown",
   "metadata": {},
   "source": [
    "### Phase 1: Recruiting"
   ]
  },
  {
   "cell_type": "code",
   "execution_count": 3,
   "metadata": {},
   "outputs": [],
   "source": [
    "# Methods that will be executed by the stream\n",
    "def load_image(name):\n",
    "    \"\"\"Loads an image from storage and returns the image id\"\"\"\n",
    "    img = open(name, 'rb')\n",
    "    return api.media_upload(filename=\"resources/card.jpg\",file=img)\n",
    "\n",
    "def check_status(status):\n",
    "    \"\"\"Checks if a status meets the requirements\"\"\"\n",
    "    if 'particip' in status.text.lower():\n",
    "        return True\n",
    "    else:\n",
    "        return False\n",
    "        \n",
    "def load_players():\n",
    "    \"\"\"Loads the players dictionary from file\"\"\"\n",
    "    try:\n",
    "        with open('resources/players.json') as file:\n",
    "            players = json.load(file)\n",
    "            print('Players loaded correctly')\n",
    "            return players\n",
    "    except:\n",
    "        print('Players created correctly')\n",
    "        return {}\n",
    "\n",
    "def save_players(players):\n",
    "    \"\"\"Saves the players dictionary to file\"\"\"\n",
    "    with open('resources/players.json', \"w\") as file:\n",
    "        json.dump(players, file, indent=2)\n",
    "        print('Players saved correctly')"
   ]
  },
  {
   "cell_type": "code",
   "execution_count": 4,
   "metadata": {},
   "outputs": [],
   "source": [
    "# The tweepy Stream class is extended\n",
    "class BotListener(tweepy.Stream):\n",
    "    \"\"\"This class implements the behaviour of the bot during the recruiting phase\"\"\"\n",
    "    def __init__(self, consumer_key, consumer_secret, access_token, access_token_secret, players, id_imagen):\n",
    "        super().__init__(consumer_key, consumer_secret, access_token, access_token_secret)\n",
    "        self.players = players\n",
    "        self.id_imagen = id_imagen\n",
    "    \n",
    "    def on_status(self, status):\n",
    "        if check_status(status):\n",
    "            if self.players.get(status.user.screen_name) is None:\n",
    "                self.add_player(status)\n",
    "            else:\n",
    "                new_status = api.update_status('Lo siento, no puedes participar 2 veces', in_reply_to_status_id=status.id)\n",
    "        else:\n",
    "            new_status = api.update_status('Instrucciones de registro:\\n'+\n",
    "                                            '1) Etiquetarme en el tweet\\n'+\n",
    "                                            '2) Que el tweet contenga la palabra \"participo\"\\n',\n",
    "                                            in_reply_to_status_id=status.id)        \n",
    "\n",
    "    def on_error(self, status_code):\n",
    "        print('On error')\n",
    "        print(status_code)\n",
    "        if status_code == 420:\n",
    "            save_players(self.players)\n",
    "            return False\n",
    "        else:\n",
    "            save_players(self.players)\n",
    "            return True\n",
    "        \n",
    "    def on_exception(self, exception):\n",
    "        print('On exception')\n",
    "        print(exception)\n",
    "        if exception.apicode == 324:\n",
    "            self.id_imagen = load_image(\"resources/card.jpg\")\n",
    "        \n",
    "    def on_closed(self, response):\n",
    "        save_players(self.players)\n",
    "        print('On closed')\n",
    "        print(response)\n",
    "        \n",
    "    def on_disconnect(self):\n",
    "        save_players(self.players)\n",
    "        print('On disconnect')\n",
    "        print('Stream closed')\n",
    "\n",
    "    def add_player(self, status):\n",
    "        \"\"\"Adds a new player to the dictionary and replies the tweet to confirm the registration\"\"\"\n",
    "        num_player = len(self.players.keys()) + 1\n",
    "        self.players[status.user.screen_name] = num_player\n",
    "        status_response = api.update_status('Bienvenido al Juego @' + status.user.screen_name + '. Tu número es el '\n",
    "                                           + str(num_player), in_reply_to_status_id=status.id, \n",
    "                                           media_ids=[self.id_imagen.media_id_string])\n",
    "        print('Player ' + status.user.screen_name + ' added')"
   ]
  },
  {
   "cell_type": "code",
   "execution_count": 5,
   "metadata": {},
   "outputs": [
    {
     "name": "stdout",
     "output_type": "stream",
     "text": [
      "Players loaded correctly\n",
      "Player roberl234 added\n"
     ]
    }
   ],
   "source": [
    "# A BotListener object is created\n",
    "tweepy_stream = BotListener(consumer_key, consumer_secret, access_token, access_token_secret,\n",
    "                            load_players(), load_image(\"resources/card.jpg\"))\n",
    "\n",
    "# And executed\n",
    "thread = tweepy_stream.filter(track=['@SquidGameBotEs'], threaded=True)"
   ]
  },
  {
   "cell_type": "code",
   "execution_count": 8,
   "metadata": {},
   "outputs": [
    {
     "name": "stdout",
     "output_type": "stream",
     "text": [
      "Players saved correctly\n",
      "On closed\n",
      "<Response [200]>\n",
      "Players saved correctly\n",
      "On disconnect\n",
      "Stream closed\n"
     ]
    }
   ],
   "source": [
    "# To stop the bot and close the stream\n",
    "tweepy_stream.disconnect()"
   ]
  },
  {
   "cell_type": "code",
   "execution_count": 9,
   "metadata": {},
   "outputs": [
    {
     "data": {
      "text/plain": [
       "False"
      ]
     },
     "execution_count": 9,
     "metadata": {},
     "output_type": "execute_result"
    }
   ],
   "source": [
    "# To check if the stream is running or not\n",
    "tweepy_stream.running"
   ]
  },
  {
   "cell_type": "markdown",
   "metadata": {},
   "source": [
    "### Phase 2: Game and eliminations"
   ]
  },
  {
   "cell_type": "code",
   "execution_count": 16,
   "metadata": {},
   "outputs": [
    {
     "name": "stdout",
     "output_type": "stream",
     "text": [
      "Players loaded correctly\n"
     ]
    }
   ],
   "source": [
    "# The players dictionary is loaded\n",
    "players = load_players()"
   ]
  },
  {
   "cell_type": "code",
   "execution_count": 17,
   "metadata": {},
   "outputs": [],
   "source": [
    "import time"
   ]
  },
  {
   "cell_type": "code",
   "execution_count": 24,
   "metadata": {},
   "outputs": [
    {
     "data": {
      "text/plain": [
       "7"
      ]
     },
     "execution_count": 24,
     "metadata": {},
     "output_type": "execute_result"
    }
   ],
   "source": [
    "# To keep the initial number of players\n",
    "num_players = len(players)"
   ]
  },
  {
   "cell_type": "code",
   "execution_count": 44,
   "metadata": {},
   "outputs": [],
   "source": [
    "# Initial tweet, from this moment, each hour, the bot tweets a new eliminated player\n",
    "status = api.update_status('¡¡¡Comienza el juego!!!\\nA partir de ahora se eliminará un jugador cada hora hasta que '+ \n",
    "                               'solo quede uno.\\nSuerte. 🔵🔺⬛')\n",
    "time.sleep(300)\n",
    "while len(players) > 1:\n",
    "    random_key = random.choice(list(players.keys()))\n",
    "    status = api.update_status('El jugador número '+str(players[random_key])+', @'+random_key+', ha sido eliminado\\n'+\n",
    "                              'Quedan '+ str(len(players)-1) +' jugadores de '+ str(num_players),\n",
    "                               in_reply_to_status_id=status.id)\n",
    "    players.pop(random_key)\n",
    "    time.sleep(3600)\n",
    "    \n",
    "# When there is only one player left the game finishes and the bot tweets who is the winner\n",
    "winner = list(players.items())[0]\n",
    "statusEnd = api.update_status('¡¡¡Fin del juego!!!\\nEl ganador de esta edición de los juegos es el número ' + \n",
    "                              str(winner[1]) + ', @' + winner[0], in_reply_to_status_id=status.id, \n",
    "                                  media_ids=[load_image('resources/winner.jpg').media_id_string])"
   ]
  },
  {
   "cell_type": "markdown",
   "metadata": {},
   "source": [
    "### Future"
   ]
  },
  {
   "cell_type": "markdown",
   "metadata": {},
   "source": [
    "If the bot succeed I would like to make this process more automatic and add different types of tweets to inform how a player has been eliminated."
   ]
  }
 ],
 "metadata": {
  "kernelspec": {
   "display_name": "Python 3",
   "language": "python",
   "name": "python3"
  },
  "language_info": {
   "codemirror_mode": {
    "name": "ipython",
    "version": 3
   },
   "file_extension": ".py",
   "mimetype": "text/x-python",
   "name": "python",
   "nbconvert_exporter": "python",
   "pygments_lexer": "ipython3",
   "version": "3.8.5"
  }
 },
 "nbformat": 4,
 "nbformat_minor": 5
}
